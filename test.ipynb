{
 "cells": [
  {
   "cell_type": "code",
   "execution_count": 1,
   "metadata": {},
   "outputs": [],
   "source": [
    "import pandas as pd"
   ]
  },
  {
   "cell_type": "code",
   "execution_count": 2,
   "metadata": {},
   "outputs": [],
   "source": [
    "URL_PREFIX = \"https://datahub.io/sports-data/\""
   ]
  },
  {
   "cell_type": "code",
   "execution_count": null,
   "metadata": {},
   "outputs": [],
   "source": [
    "# dataset_file = \"season-0910.csv\"\n",
    "# dataset_url = f\"https://datahub.io/sports-data/english-premier-league/r/{dataset_file}\""
   ]
  },
  {
   "cell_type": "code",
   "execution_count": null,
   "metadata": {},
   "outputs": [],
   "source": [
    "https://datahub.io/sports-data/english-premier-league/r/season-1819.csv"
   ]
  },
  {
   "cell_type": "code",
   "execution_count": 3,
   "metadata": {},
   "outputs": [],
   "source": [
    "seasons = [\"season-0910\", \"season-1011\", \"season-1112\", \"season-1213\", \"season-1314\", \"season-1415\", \"season-1516\", \"season-1617\", \"season-1718\", \"season-1819\"]"
   ]
  },
  {
   "cell_type": "code",
   "execution_count": 7,
   "metadata": {},
   "outputs": [
    {
     "name": "stdout",
     "output_type": "stream",
     "text": [
      "https://datahub.io/sports-data//english-premier-league/r/season-0910.csv\n",
      "AIRFLOW_HOME/english-premier-league_season-0910.csv\n",
      "football_stats/EPL/epl_season-0910.csv\n",
      "https://datahub.io/sports-data//english-premier-league/r/season-1011.csv\n",
      "AIRFLOW_HOME/english-premier-league_season-1011.csv\n",
      "football_stats/EPL/epl_season-1011.csv\n",
      "https://datahub.io/sports-data//english-premier-league/r/season-1112.csv\n",
      "AIRFLOW_HOME/english-premier-league_season-1112.csv\n",
      "football_stats/EPL/epl_season-1112.csv\n",
      "https://datahub.io/sports-data//english-premier-league/r/season-1213.csv\n",
      "AIRFLOW_HOME/english-premier-league_season-1213.csv\n",
      "football_stats/EPL/epl_season-1213.csv\n",
      "https://datahub.io/sports-data//english-premier-league/r/season-1314.csv\n",
      "AIRFLOW_HOME/english-premier-league_season-1314.csv\n",
      "football_stats/EPL/epl_season-1314.csv\n",
      "https://datahub.io/sports-data//english-premier-league/r/season-1415.csv\n",
      "AIRFLOW_HOME/english-premier-league_season-1415.csv\n",
      "football_stats/EPL/epl_season-1415.csv\n",
      "https://datahub.io/sports-data//english-premier-league/r/season-1516.csv\n",
      "AIRFLOW_HOME/english-premier-league_season-1516.csv\n",
      "football_stats/EPL/epl_season-1516.csv\n",
      "https://datahub.io/sports-data//english-premier-league/r/season-1617.csv\n",
      "AIRFLOW_HOME/english-premier-league_season-1617.csv\n",
      "football_stats/EPL/epl_season-1617.csv\n",
      "https://datahub.io/sports-data//english-premier-league/r/season-1718.csv\n",
      "AIRFLOW_HOME/english-premier-league_season-1718.csv\n",
      "football_stats/EPL/epl_season-1718.csv\n",
      "https://datahub.io/sports-data//english-premier-league/r/season-1819.csv\n",
      "AIRFLOW_HOME/english-premier-league_season-1819.csv\n",
      "football_stats/EPL/epl_season-1819.csv\n"
     ]
    }
   ],
   "source": [
    "for season in seasons:\n",
    "  EPL_URL_TEMPLATE = URL_PREFIX + \"/english-premier-league/r/\" + season + \".csv\"\n",
    "  EPL_CSV_FILE_TEMPLATE = \"AIRFLOW_HOME\" + \"/english-premier-league_\" + season + \".csv\"\n",
    "  EPL_GCS_PATH_TEMPLATE = \"football_stats/EPL/epl_\" + season + \".csv\"\n",
    "  print(EPL_URL_TEMPLATE)\n",
    "  print(EPL_CSV_FILE_TEMPLATE)\n",
    "  print(EPL_GCS_PATH_TEMPLATE)"
   ]
  },
  {
   "cell_type": "code",
   "execution_count": 8,
   "metadata": {},
   "outputs": [
    {
     "name": "stdout",
     "output_type": "stream",
     "text": [
      "--2022-11-03 11:11:18--  https://datahub.io/sports-data/english-premier-league/r/english-premier-league_zip.zip\n",
      "Resolving datahub.io (datahub.io)... 104.21.40.221, 172.67.157.38\n",
      "Connecting to datahub.io (datahub.io)|104.21.40.221|:443... connected.\n",
      "HTTP request sent, awaiting response... 302 Found\n",
      "Location: https://pkgstore.datahub.io/sports-data/english-premier-league/english-premier-league_zip/data/7e65fe98634cd15c05ccb36845e4d4c9/english-premier-league_zip.zip [following]\n",
      "--2022-11-03 11:11:19--  https://pkgstore.datahub.io/sports-data/english-premier-league/english-premier-league_zip/data/7e65fe98634cd15c05ccb36845e4d4c9/english-premier-league_zip.zip\n",
      "Resolving pkgstore.datahub.io (pkgstore.datahub.io)... 172.67.157.38, 104.21.40.221\n",
      "Connecting to pkgstore.datahub.io (pkgstore.datahub.io)|172.67.157.38|:443... connected.\n",
      "HTTP request sent, awaiting response... 200 OK\n",
      "Length: 1178426 (1.1M) [application/zip]\n",
      "Saving to: ‘english-premier-league_zip.zip’\n",
      "\n",
      "english-premier-lea 100%[===================>]   1.12M  1.55MB/s    in 0.7s    \n",
      "\n",
      "2022-11-03 11:11:21 (1.55 MB/s) - ‘english-premier-league_zip.zip’ saved [1178426/1178426]\n",
      "\n"
     ]
    }
   ],
   "source": [
    "!wget https://datahub.io/sports-data/english-premier-league/r/english-premier-league_zip.zip"
   ]
  },
  {
   "cell_type": "code",
   "execution_count": 13,
   "metadata": {},
   "outputs": [
    {
     "name": "stdout",
     "output_type": "stream",
     "text": [
      "https://datahub.io/sports-data/english-premier-league/r/season-0910.csv\n",
      "AIRFLOW_HOME/english-premier-league_season-0910.csv\n",
      "football_stats/english-premier-league/english-premier-league_season-0910.csv\n",
      "https://datahub.io/sports-data/english-premier-league/r/season-1011.csv\n",
      "AIRFLOW_HOME/english-premier-league_season-1011.csv\n",
      "football_stats/english-premier-league/english-premier-league_season-1011.csv\n",
      "https://datahub.io/sports-data/english-premier-league/r/season-1112.csv\n",
      "AIRFLOW_HOME/english-premier-league_season-1112.csv\n",
      "football_stats/english-premier-league/english-premier-league_season-1112.csv\n",
      "https://datahub.io/sports-data/english-premier-league/r/season-1213.csv\n",
      "AIRFLOW_HOME/english-premier-league_season-1213.csv\n",
      "football_stats/english-premier-league/english-premier-league_season-1213.csv\n",
      "https://datahub.io/sports-data/english-premier-league/r/season-1314.csv\n",
      "AIRFLOW_HOME/english-premier-league_season-1314.csv\n",
      "football_stats/english-premier-league/english-premier-league_season-1314.csv\n",
      "https://datahub.io/sports-data/english-premier-league/r/season-1415.csv\n",
      "AIRFLOW_HOME/english-premier-league_season-1415.csv\n",
      "football_stats/english-premier-league/english-premier-league_season-1415.csv\n",
      "https://datahub.io/sports-data/english-premier-league/r/season-1516.csv\n",
      "AIRFLOW_HOME/english-premier-league_season-1516.csv\n",
      "football_stats/english-premier-league/english-premier-league_season-1516.csv\n",
      "https://datahub.io/sports-data/english-premier-league/r/season-1617.csv\n",
      "AIRFLOW_HOME/english-premier-league_season-1617.csv\n",
      "football_stats/english-premier-league/english-premier-league_season-1617.csv\n",
      "https://datahub.io/sports-data/english-premier-league/r/season-1718.csv\n",
      "AIRFLOW_HOME/english-premier-league_season-1718.csv\n",
      "football_stats/english-premier-league/english-premier-league_season-1718.csv\n",
      "https://datahub.io/sports-data/english-premier-league/r/season-1819.csv\n",
      "AIRFLOW_HOME/english-premier-league_season-1819.csv\n",
      "football_stats/english-premier-league/english-premier-league_season-1819.csv\n",
      "https://datahub.io/sports-data/spanish-la-liga/r/season-0910.csv\n",
      "AIRFLOW_HOME/spanish-la-liga_season-0910.csv\n",
      "football_stats/spanish-la-liga/spanish-la-liga_season-0910.csv\n",
      "https://datahub.io/sports-data/spanish-la-liga/r/season-1011.csv\n",
      "AIRFLOW_HOME/spanish-la-liga_season-1011.csv\n",
      "football_stats/spanish-la-liga/spanish-la-liga_season-1011.csv\n",
      "https://datahub.io/sports-data/spanish-la-liga/r/season-1112.csv\n",
      "AIRFLOW_HOME/spanish-la-liga_season-1112.csv\n",
      "football_stats/spanish-la-liga/spanish-la-liga_season-1112.csv\n",
      "https://datahub.io/sports-data/spanish-la-liga/r/season-1213.csv\n",
      "AIRFLOW_HOME/spanish-la-liga_season-1213.csv\n",
      "football_stats/spanish-la-liga/spanish-la-liga_season-1213.csv\n",
      "https://datahub.io/sports-data/spanish-la-liga/r/season-1314.csv\n",
      "AIRFLOW_HOME/spanish-la-liga_season-1314.csv\n",
      "football_stats/spanish-la-liga/spanish-la-liga_season-1314.csv\n",
      "https://datahub.io/sports-data/spanish-la-liga/r/season-1415.csv\n",
      "AIRFLOW_HOME/spanish-la-liga_season-1415.csv\n",
      "football_stats/spanish-la-liga/spanish-la-liga_season-1415.csv\n",
      "https://datahub.io/sports-data/spanish-la-liga/r/season-1516.csv\n",
      "AIRFLOW_HOME/spanish-la-liga_season-1516.csv\n",
      "football_stats/spanish-la-liga/spanish-la-liga_season-1516.csv\n",
      "https://datahub.io/sports-data/spanish-la-liga/r/season-1617.csv\n",
      "AIRFLOW_HOME/spanish-la-liga_season-1617.csv\n",
      "football_stats/spanish-la-liga/spanish-la-liga_season-1617.csv\n",
      "https://datahub.io/sports-data/spanish-la-liga/r/season-1718.csv\n",
      "AIRFLOW_HOME/spanish-la-liga_season-1718.csv\n",
      "football_stats/spanish-la-liga/spanish-la-liga_season-1718.csv\n",
      "https://datahub.io/sports-data/spanish-la-liga/r/season-1819.csv\n",
      "AIRFLOW_HOME/spanish-la-liga_season-1819.csv\n",
      "football_stats/spanish-la-liga/spanish-la-liga_season-1819.csv\n"
     ]
    }
   ],
   "source": [
    "leagues = [\"english-premier-league\", \"spanish-la-liga\"]\n",
    "seasons = [\"season-0910\", \"season-1011\", \"season-1112\", \"season-1213\", \"season-1314\", \"season-1415\", \"season-1516\", \"season-1617\", \"season-1718\", \"season-1819\"]\n",
    "\n",
    "for league in leagues:\n",
    "  for season in seasons:\n",
    "    EPL_URL_TEMPLATE = f\"{URL_PREFIX}{league}/r/{season}.csv\"\n",
    "    EPL_CSV_FILE_TEMPLATE = f\"AIRFLOW_HOME/{league}_{season}.csv\"\n",
    "    EPL_GCS_PATH_TEMPLATE = f\"football_stats/{league}/{league}_{season}.csv\"\n",
    "\n",
    "    print(EPL_URL_TEMPLATE)\n",
    "    print(EPL_CSV_FILE_TEMPLATE)\n",
    "    print(EPL_GCS_PATH_TEMPLATE)"
   ]
  },
  {
   "cell_type": "code",
   "execution_count": null,
   "metadata": {},
   "outputs": [],
   "source": []
  }
 ],
 "metadata": {
  "kernelspec": {
   "display_name": "Python 3.7.6",
   "language": "python",
   "name": "python3"
  },
  "language_info": {
   "codemirror_mode": {
    "name": "ipython",
    "version": 3
   },
   "file_extension": ".py",
   "mimetype": "text/x-python",
   "name": "python",
   "nbconvert_exporter": "python",
   "pygments_lexer": "ipython3",
   "version": "3.7.6"
  },
  "orig_nbformat": 4,
  "vscode": {
   "interpreter": {
    "hash": "40d3a090f54c6569ab1632332b64b2c03c39dcf918b08424e98f38b5ae0af88f"
   }
  }
 },
 "nbformat": 4,
 "nbformat_minor": 2
}
